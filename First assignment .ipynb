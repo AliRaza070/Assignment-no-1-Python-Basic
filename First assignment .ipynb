{
 "cells": [
  {
   "cell_type": "markdown",
   "id": "54327567-e2bb-4ee9-bb57-6af9289e2230",
   "metadata": {},
   "source": [
    "TOPIC: Python Basics Variable"
   ]
  },
  {
   "cell_type": "markdown",
   "id": "d180b1f2-bfb2-4af3-9844-f7c18d5e922a",
   "metadata": {},
   "source": [
    "1. Declare two variables, `x` and `y`, and assign them integer values. Swap the\n",
    "values of these variables without using any temporary variable."
   ]
  },
  {
   "cell_type": "code",
   "execution_count": 8,
   "id": "fbb3063a-8579-4ca1-a5a0-a9c302acbc32",
   "metadata": {
    "collapsed": true,
    "jupyter": {
     "outputs_hidden": true
    },
    "tags": []
   },
   "outputs": [
    {
     "name": "stdout",
     "output_type": "stream",
     "text": [
      "Value of a is 20 Value of b is 10\n"
     ]
    }
   ],
   "source": [
    "a=int(10)\n",
    "b=int(20)\n",
    "a=a+b\n",
    "b=a-b\n",
    "a=a-b\n",
    "print(\"Value of a is\",a,\"Value of b is\",b)\n"
   ]
  },
  {
   "cell_type": "markdown",
   "id": "e47e3d3d-5263-4cd0-add2-f034d4825684",
   "metadata": {},
   "source": [
    "2.Create a program that calculates the area of a rectangle. Take the length and\n",
    "width as inputs from the user and store them in variables. Calculate and\n",
    "display the area."
   ]
  },
  {
   "cell_type": "code",
   "execution_count": 13,
   "id": "7ad4f315-e915-4f69-ae66-f64ddd6056d7",
   "metadata": {},
   "outputs": [
    {
     "name": "stdin",
     "output_type": "stream",
     "text": [
      "Enter the Length of rectangle: 20\n",
      "Enter the width of rectangle: 2\n"
     ]
    },
    {
     "name": "stdout",
     "output_type": "stream",
     "text": [
      "Area of a rectangle is : 40\n"
     ]
    }
   ],
   "source": [
    "l=int(input(\"Enter the Length of rectangle:\"))\n",
    "w=int(input(\"Enter the width of rectangle:\"))\n",
    "area=l*w\n",
    "print(\"Area of a rectangle is :\",area)"
   ]
  },
  {
   "cell_type": "markdown",
   "id": "30a88379-ffd6-4e67-8cbe-02d8fa21b1f0",
   "metadata": {},
   "source": [
    "3.Write a Python program that converts temperatures from Celsius to\n",
    "Fahrenheit. Take the temperature in Celsius as input, store it in a variable,\n",
    "convert it to Fahrenheit, and display the result."
   ]
  },
  {
   "cell_type": "code",
   "execution_count": 17,
   "id": "b5f6fae4-bd6d-44a2-90a1-d53adab9fa7e",
   "metadata": {},
   "outputs": [
    {
     "name": "stdin",
     "output_type": "stream",
     "text": [
      "Enter temperature in Celsius:  2.36\n"
     ]
    },
    {
     "name": "stdout",
     "output_type": "stream",
     "text": [
      "2.36  degrees Celsius is equal to 36.248 degrees Fahrenheit\n"
     ]
    }
   ],
   "source": [
    "celsius = float(input(\"Enter temperature in Celsius: \"))\n",
    "fahrenheit = (celsius * 9/5) + 32\n",
    "print(celsius,\" degrees Celsius is equal to\", fahrenheit, \"degrees Fahrenheit\")"
   ]
  },
  {
   "cell_type": "markdown",
   "id": "d9c4bc60-4285-4047-af88-9a2671bdffdb",
   "metadata": {},
   "source": [
    "1. Write a Python program that takes a string as input and prints the length of\n",
    "the string."
   ]
  },
  {
   "cell_type": "code",
   "execution_count": 19,
   "id": "c8b10038-f077-4bf8-aa42-73d42b2d829e",
   "metadata": {},
   "outputs": [
    {
     "name": "stdin",
     "output_type": "stream",
     "text": [
      "Enter a String : aliraza\n"
     ]
    },
    {
     "name": "stdout",
     "output_type": "stream",
     "text": [
      "The length of entered string is  7\n"
     ]
    }
   ],
   "source": [
    "s=str(input(\"Enter a String :\"))\n",
    "print(\"The length of entered string is \",len(s))"
   ]
  },
  {
   "cell_type": "markdown",
   "id": "c96576f1-ddbb-4e29-b159-384083943f51",
   "metadata": {},
   "source": [
    "2. Create a program that takes a sentence from the user and counts the number\n",
    "of vowels (a, e, i, o, u) in the string."
   ]
  },
  {
   "cell_type": "code",
   "execution_count": 34,
   "id": "66b0f044-c54b-4cda-b835-fe128a9bbc3d",
   "metadata": {},
   "outputs": [
    {
     "name": "stdin",
     "output_type": "stream",
     "text": [
      "Enter a sentence : he is a boy\n"
     ]
    },
    {
     "name": "stdout",
     "output_type": "stream",
     "text": [
      "The numbers of vowels in sentence is  4\n"
     ]
    }
   ],
   "source": [
    "sent=list(input(\"Enter a sentence :\"))\n",
    "count=int(0)\n",
    "num=len(sent)\n",
    "vowels=set(\"aeiouAEIOU\")\n",
    "for i in range(num):\n",
    " if sent[i] in vowels:\n",
    "    count=count+1\n",
    "print(\"The numbers of vowels in sentence is \",count)\n",
    "\n",
    "\n"
   ]
  },
  {
   "cell_type": "markdown",
   "id": "d52fb77d-24b0-4fda-a919-bacdde5adcd5",
   "metadata": {},
   "source": [
    "3. Given a string, reverse the order of characters using string slicing and print\n",
    "the reversed string."
   ]
  },
  {
   "cell_type": "code",
   "execution_count": null,
   "id": "9211fa77-4a4d-4e7f-92eb-c91d96fe7f0c",
   "metadata": {},
   "outputs": [],
   "source": []
  },
  {
   "cell_type": "code",
   "execution_count": 37,
   "id": "04cd9d49-e283-41e8-8ac4-589762a78cb5",
   "metadata": {},
   "outputs": [
    {
     "name": "stdin",
     "output_type": "stream",
     "text": [
      "Enter a string : aliraza\n"
     ]
    },
    {
     "name": "stdout",
     "output_type": "stream",
     "text": [
      "Reverse of string is  azarila\n"
     ]
    }
   ],
   "source": [
    "string=str(input(\"Enter a string :\"))\n",
    "reverse_string=string[::-1]\n",
    "print(\"Reverse of string is :\",reverse_string)"
   ]
  },
  {
   "cell_type": "markdown",
   "id": "d0dfe40b-a7e8-4ebe-8629-fcc8620255a1",
   "metadata": {},
   "source": [
    "4. Write a program that takes a string as input and checks if it is a palindrome\n",
    "(reads the same forwards and backwards)."
   ]
  },
  {
   "cell_type": "code",
   "execution_count": 49,
   "id": "367e7a75-ab8d-4379-bdb8-290794618184",
   "metadata": {},
   "outputs": [
    {
     "name": "stdin",
     "output_type": "stream",
     "text": [
      "Enter a string : aa\n"
     ]
    },
    {
     "name": "stdout",
     "output_type": "stream",
     "text": [
      "It is a palindrome.\n"
     ]
    }
   ],
   "source": [
    "string=str(input(\"Enter a string :\"))\n",
    "string=string.lower()\n",
    "reverse_string=string[::-1]\n",
    "if string == reverse_string:\n",
    "          print(\"It is a palindrome.\")\n",
    "else:\n",
    "    print(\"It is not a palindrome.\")"
   ]
  },
  {
   "cell_type": "markdown",
   "id": "8e3747d1-eca7-4204-8e1a-6fc318a882c7",
   "metadata": {},
   "source": [
    "5. Create a program that takes a string as input and removes all the spaces from\n",
    "it. Print the modified string without spaces."
   ]
  },
  {
   "cell_type": "code",
   "execution_count": 52,
   "id": "dc9ebb3c-ed83-4a14-b271-972d37cdecae",
   "metadata": {},
   "outputs": [
    {
     "name": "stdin",
     "output_type": "stream",
     "text": [
      "Enter a string : ali raza\n"
     ]
    },
    {
     "name": "stdout",
     "output_type": "stream",
     "text": [
      "aliraza\n"
     ]
    }
   ],
   "source": [
    "string=str(input(\"Enter a string :\"))\n",
    "string=string.replace(\" \",\"\")\n",
    "print(string)"
   ]
  },
  {
   "cell_type": "code",
   "execution_count": null,
   "id": "5c36ad06-ee81-4c33-9256-0b65ed6cff00",
   "metadata": {},
   "outputs": [],
   "source": []
  }
 ],
 "metadata": {
  "kernelspec": {
   "display_name": "Python 3 (ipykernel)",
   "language": "python",
   "name": "python3"
  },
  "language_info": {
   "codemirror_mode": {
    "name": "ipython",
    "version": 3
   },
   "file_extension": ".py",
   "mimetype": "text/x-python",
   "name": "python",
   "nbconvert_exporter": "python",
   "pygments_lexer": "ipython3",
   "version": "3.10.8"
  }
 },
 "nbformat": 4,
 "nbformat_minor": 5
}
